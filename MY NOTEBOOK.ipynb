{
 "cells": [
  {
   "cell_type": "code",
   "execution_count": 1,
   "id": "b9f0edc9",
   "metadata": {},
   "outputs": [
    {
     "data": {
      "text/plain": [
       "11"
      ]
     },
     "execution_count": 1,
     "metadata": {},
     "output_type": "execute_result"
    }
   ],
   "source": [
    "34-23"
   ]
  },
  {
   "cell_type": "code",
   "execution_count": 2,
   "id": "f8bb00e2",
   "metadata": {},
   "outputs": [
    {
     "data": {
      "text/plain": [
       "13.875"
      ]
     },
     "execution_count": 2,
     "metadata": {},
     "output_type": "execute_result"
    }
   ],
   "source": [
    "333/24"
   ]
  },
  {
   "cell_type": "code",
   "execution_count": null,
   "id": "d0ce099e",
   "metadata": {},
   "outputs": [],
   "source": []
  }
 ],
 "metadata": {
  "kernelspec": {
   "display_name": "Python 3 (ipykernel)",
   "language": "python",
   "name": "python3"
  },
  "language_info": {
   "codemirror_mode": {
    "name": "ipython",
    "version": 3
   },
   "file_extension": ".py",
   "mimetype": "text/x-python",
   "name": "python",
   "nbconvert_exporter": "python",
   "pygments_lexer": "ipython3",
   "version": "3.9.12"
  }
 },
 "nbformat": 4,
 "nbformat_minor": 5
}
